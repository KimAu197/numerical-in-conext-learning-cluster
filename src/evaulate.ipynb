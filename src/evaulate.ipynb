{
 "cells": [
  {
   "cell_type": "markdown",
   "metadata": {},
   "source": [
    "1. 提取出xs ys"
   ]
  },
  {
   "cell_type": "code",
   "execution_count": null,
   "metadata": {},
   "outputs": [],
   "source": [
    "        xs_last = xs_o[:, -1, :]  \n",
    "        # # 取出最后一列\n",
    "        # xs2 = torch.tensor([item[0] for item in xs_o[:, -1]])\n",
    "        # xs = torch.cat((xs1, xs2), dim=1)\n",
    "\n",
    "        task = task_sampler(**task_sampler_args)\n",
    "\n",
    "        ys = task.evaluate(xs_last) # ground truth 变成one-hot向量\n",
    "        \n",
    "        xs = xs_o.clone()\n",
    "        xs[:, -1, point_dims:] = 0 \n",
    "        print(\"Shape of xs:\", xs.shape)\n",
    "        print(\"Shape of ys:\", ys.shape)"
   ]
  },
  {
   "cell_type": "markdown",
   "metadata": {},
   "source": [
    "这是xs ys合在一起的代码"
   ]
  },
  {
   "cell_type": "code",
   "execution_count": null,
   "metadata": {},
   "outputs": [],
   "source": [
    "    def sample_xs(self, n_points, b_size, n_dims_truncated=None, seeds=None):\n",
    "        assert self.n_dims == 2  # 二维点集\n",
    "        x_s = []\n",
    "        \n",
    "        for _ in range(b_size):\n",
    "            points, label, point_type = generate_points(n_points, self.n_cluster, seed=seeds)  # 生成点集\n",
    "            \n",
    "            # 生成 one-hot 向量\n",
    "            one_hot_labels = np.zeros((label.size, self.n_cluster))  # 创建一个全零的数组\n",
    "            one_hot_labels[np.arange(label.size), label] = 1  # 将对应的类别位置设为 1\n",
    "            \n",
    "            # 组合点和标签\n",
    "            labeled_points = []\n",
    "            for i in range(points.shape[0]):\n",
    "                point = points[i]  # 取点\n",
    "                one_hot_label = one_hot_labels[i]  # 取对应的 one-hot 标签\n",
    "                \n",
    "                # 组合为一个数组\n",
    "                combined = np.concatenate((point, one_hot_label))  # 组合为一个数组\n",
    "                labeled_points.append(combined)  # 直接添加 NumPy 数组\n",
    "\n",
    "            # 将每个批次的结果转换为一个 NumPy 数组\n",
    "            x_s.append(np.array(labeled_points))  # 直接添加 NumPy 数组\n",
    "\n",
    "        # 将所有批次的结果堆叠成一个张量\n",
    "        x_s = np.array(x_s)  # 转换为 NumPy 数组，形状为 [b_size, n_points, n_dims]\n",
    "        return torch.tensor(x_s, dtype=torch.float32)  # 确保数据类型为 float32"
   ]
  }
 ],
 "metadata": {
  "language_info": {
   "name": "python"
  }
 },
 "nbformat": 4,
 "nbformat_minor": 2
}
